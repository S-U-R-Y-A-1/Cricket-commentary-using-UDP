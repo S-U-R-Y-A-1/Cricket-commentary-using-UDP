{
 "cells": [
  {
   "cell_type": "code",
   "execution_count": 1,
   "id": "f45778ed",
   "metadata": {},
   "outputs": [
    {
     "name": "stdout",
     "output_type": "stream",
     "text": [
      "2.0.1\n"
     ]
    }
   ],
   "source": [
    "import requests\n",
    "from bs4 import BeautifulSoup\n",
    "import pandas as pd\n",
    "print(pd.__version__)\n",
    "import re"
   ]
  },
  {
   "cell_type": "code",
   "execution_count": 2,
   "id": "235d73bf",
   "metadata": {},
   "outputs": [],
   "source": [
    "url = \"https://www.espncricinfo.com/series/indian-premier-league-2023-1345038/chennai-super-kings-vs-gujarat-titans-qualifier-1-1370350/match-overs-comparison\"\n",
    "response = requests.get(url)\n"
   ]
  },
  {
   "cell_type": "code",
   "execution_count": 3,
   "id": "508d4f33",
   "metadata": {},
   "outputs": [],
   "source": [
    "soup = BeautifulSoup(response.content, 'html.parser')\n"
   ]
  },
  {
   "cell_type": "code",
   "execution_count": 7,
   "id": "63c5536b",
   "metadata": {},
   "outputs": [
    {
     "data": {
      "text/plain": [
       "<table class=\"ds-w-full ds-table ds-table-md ds-table-bordered ds-border-collapse ds-border ds-border-line ds-table-fixed\"><thead class=\"ds-bg-fill-content-alternate ds-text-left\"><tr class=\"\"><th class=\"ds-min-w-max ds-w-14\"><span class=\"ds-text-tight-m ds-font-regular ds-capitalize\">Ovs</span></th><th class=\"ds-min-w-max\"><span class=\"ds-text-tight-m ds-font-regular ds-capitalize\">Super Kings</span></th><th class=\"ds-min-w-max\"><span class=\"ds-text-tight-m ds-font-regular ds-capitalize\">Titans</span><span class=\"ds-text-tight-s ds-font-regular\"></span></th></tr></thead><tbody class=\"\"><tr class=\"\"><td class=\"ds-min-w-max ds-cursor-pointer ds-align-top\"><div class=\"ds-text-tight-s ds-font-regular ds-flex ds-justify-center ds-items-center ds-w-7 ds-h-7 ds-rounded-full ds-border ds-border-ui-stroke ds-bg-fill-content-prime\">1</div></td><td class=\"ds-min-w-max !ds-align-top\"><div class=\"ds-cursor-pointer ds-pt-1\"><div class=\"ds-text-tight-m ds-font-medium ds-flex ds-items-center\"><div>4/0<span class=\"ds-text-tight-s ds-font-regular ds-ml-1 ds-text-typo-mid3\">(<!-- -->4 runs, 0 wkt<!-- -->)</span></div></div><div><div class=\"ds-text-compact-xs ds-pt-2 ds-mt-2\"><b>Bowler<!-- -->:</b> <!-- -->Mohammed Shami</div><div class=\"ds-flex ds-my-3 ds--ml-1 ds-flex-wrap\"><div class=\"ds-flex ds-flex-col ds-items-center ds-mb-1.5\"><div class=\"ds-flex ds-items-center ds-justify-center ds-rounded ds-overflow-hidden ds-bg-ui-fill-default-translucent ds-text-typo ds-mb-1 ds-mx-1\"><div class=\"ds-text-tight-m ds-font-bold ds-flex ds-items-center ds-justify-center ds-text-center ds-w-8 ds-h-8 ds-text-typo\"><span>•</span></div></div></div><div class=\"ds-flex ds-flex-col ds-items-center ds-mb-1.5\"><div class=\"ds-flex ds-items-center ds-justify-center ds-rounded ds-overflow-hidden ds-bg-ui-fill-default-translucent ds-text-typo ds-mb-1 ds-mx-1\"><div class=\"ds-text-tight-m ds-font-bold ds-flex ds-items-center ds-justify-center ds-text-center ds-w-8 ds-h-8 ds-text-typo\"><span>•</span></div></div></div><div class=\"ds-flex ds-flex-col ds-items-center ds-mb-1.5\"><div class=\"ds-flex ds-items-center ds-justify-center ds-rounded ds-overflow-hidden ds-bg-ui-fill-default-translucent ds-text-typo ds-mb-1 ds-mx-1\"><div class=\"ds-text-tight-m ds-font-bold ds-flex ds-items-center ds-justify-center ds-text-center ds-w-8 ds-h-8 ds-text-typo\"><span>2</span></div></div></div><div class=\"ds-flex ds-flex-col ds-items-center ds-mb-1.5\"><div class=\"ds-flex ds-items-center ds-justify-center ds-rounded ds-overflow-hidden ds-bg-ui-fill-default-translucent ds-text-typo ds-mb-1 ds-mx-1\"><div class=\"ds-text-tight-m ds-font-bold ds-flex ds-items-center ds-justify-center ds-text-center ds-w-8 ds-h-8 ds-text-typo\"><span>•</span></div></div></div><div class=\"ds-flex ds-flex-col ds-items-center ds-mb-1.5\"><div class=\"ds-flex ds-items-center ds-justify-center ds-rounded ds-overflow-hidden ds-bg-ui-fill-default-translucent ds-text-typo ds-mb-1 ds-mx-1\"><div class=\"ds-text-tight-m ds-font-bold ds-flex ds-items-center ds-justify-center ds-text-center ds-w-8 ds-h-8 ds-text-typo\"><span>1lb</span></div></div></div><div class=\"ds-flex ds-flex-col ds-items-center ds-mb-1.5\"><div class=\"ds-flex ds-items-center ds-justify-center ds-rounded ds-overflow-hidden ds-bg-ui-fill-default-translucent ds-text-typo ds-mb-1 ds-mx-1\"><div class=\"ds-text-tight-m ds-font-bold ds-flex ds-items-center ds-justify-center ds-text-center ds-w-8 ds-h-8 ds-text-typo\"><span>1</span></div></div></div></div><div class=\"ds-py-2 ds-mb-2\"><div class=\"ds-p-1 ds-flex ds-bg-ui-fill-default-translucent ds-text-typo ds-items-center ds-max-w-max\"><span class=\"ds-text-compact-xs ds-font-medium\">Forecasted score: </span><div class=\"ds-flex ds-flex-wrap\"><span class=\"ds-text-compact-xs ds-mx-1\">CSK<!-- --> <!-- -->162</span></div></div></div><div class=\"ds-text-tight-s ds-font-regular\">RR<!-- -->: <!-- -->4.00</div></div></div></td><td class=\"ds-min-w-max !ds-align-top\"><div class=\"ds-cursor-pointer ds-pt-1\"><div class=\"ds-text-tight-m ds-font-medium ds-flex ds-items-center\"><div>3/0<span class=\"ds-text-tight-s ds-font-regular ds-ml-1 ds-text-typo-mid3\">(<!-- -->3 runs, 0 wkt<!-- -->)</span></div></div><div><div class=\"ds-text-compact-xs ds-pt-2 ds-mt-2\"><b>Bowler<!-- -->:</b> <!-- -->Deepak Chahar</div><div class=\"ds-flex ds-my-3 ds--ml-1 ds-flex-wrap\"><div class=\"ds-flex ds-flex-col ds-items-center ds-mb-1.5\"><div class=\"ds-flex ds-items-center ds-justify-center ds-rounded ds-overflow-hidden ds-bg-ui-fill-default-translucent ds-text-typo ds-mb-1 ds-mx-1\"><div class=\"ds-text-tight-m ds-font-bold ds-flex ds-items-center ds-justify-center ds-text-center ds-w-8 ds-h-8 ds-text-typo\"><span>1</span></div></div><img alt=\"sub\" height=\"24\" src=\"https://wassets.hscicdn.com/static/images/lazyimage-noaspect.svg\" style=\"width:24px;height:24px\" width=\"24\"/></div><div class=\"ds-flex ds-flex-col ds-items-center ds-mb-1.5\"><div class=\"ds-flex ds-items-center ds-justify-center ds-rounded ds-overflow-hidden ds-bg-ui-fill-default-translucent ds-text-typo ds-mb-1 ds-mx-1\"><div class=\"ds-text-tight-m ds-font-bold ds-flex ds-items-center ds-justify-center ds-text-center ds-w-8 ds-h-8 ds-text-typo\"><span>•</span></div></div></div><div class=\"ds-flex ds-flex-col ds-items-center ds-mb-1.5\"><div class=\"ds-flex ds-items-center ds-justify-center ds-rounded ds-overflow-hidden ds-bg-ui-fill-default-translucent ds-text-typo ds-mb-1 ds-mx-1\"><div class=\"ds-text-tight-m ds-font-bold ds-flex ds-items-center ds-justify-center ds-text-center ds-w-8 ds-h-8 ds-text-typo\"><span>1</span></div></div></div><div class=\"ds-flex ds-flex-col ds-items-center ds-mb-1.5\"><div class=\"ds-flex ds-items-center ds-justify-center ds-rounded ds-overflow-hidden ds-bg-ui-fill-default-translucent ds-text-typo ds-mb-1 ds-mx-1\"><div class=\"ds-text-tight-m ds-font-bold ds-flex ds-items-center ds-justify-center ds-text-center ds-w-8 ds-h-8 ds-text-typo\"><span>•</span></div></div></div><div class=\"ds-flex ds-flex-col ds-items-center ds-mb-1.5\"><div class=\"ds-flex ds-items-center ds-justify-center ds-rounded ds-overflow-hidden ds-bg-ui-fill-default-translucent ds-text-typo ds-mb-1 ds-mx-1\"><div class=\"ds-text-tight-m ds-font-bold ds-flex ds-items-center ds-justify-center ds-text-center ds-w-8 ds-h-8 ds-text-typo\"><span>•</span></div></div></div><div class=\"ds-flex ds-flex-col ds-items-center ds-mb-1.5\"><div class=\"ds-flex ds-items-center ds-justify-center ds-rounded ds-overflow-hidden ds-bg-ui-fill-default-translucent ds-text-typo ds-mb-1 ds-mx-1\"><div class=\"ds-text-tight-m ds-font-bold ds-flex ds-items-center ds-justify-center ds-text-center ds-w-8 ds-h-8 ds-text-typo\"><span>1</span></div></div></div></div><div class=\"ds-mb-1 last:ds-mb-2\"><p class=\"ds-text-compact-xs ds-font-medium\">0.1<!-- -->:<!-- --> <!-- -->Impact sub</p><p class=\"ds-text-compact-xs ds-flex ds-items-center ds-mt-1\">M Pathirana<div class=\"ds-popper-wrapper\"><i class=\"icon-arrow_back-filled ds-text-icon ds-text-icon-success-hover ds-ml-0.5 ds-cursor-pointer\" style=\"font-size:12px\"></i></div></p><p class=\"ds-text-compact-xs ds-flex ds-items-center\">S Dube<div class=\"ds-popper-wrapper\"><i class=\"icon-arrow_forward-filled ds-text-icon ds-text-icon-error ds-ml-0.5 ds-cursor-pointer\" style=\"font-size:12px\"></i></div></p><p class=\"ds-text-compact-xs ds-mt-1\">Team<!-- -->: <!-- -->Super Kings</p></div><div class=\"ds-py-2 ds-mb-2\"><div class=\"ds-p-1 ds-flex ds-bg-ui-fill-default-translucent ds-text-typo ds-items-center ds-max-w-max\"><span class=\"ds-text-compact-xs ds-font-medium\">Win probability: </span><div class=\"ds-flex ds-flex-wrap\"><span class=\"ds-text-compact-xs ds-mx-1\">GT<!-- --> <!-- -->42<!-- -->%</span></div></div></div><div class=\"ds-text-tight-s ds-font-regular\">RR<!-- -->: <!-- -->3.00<!-- --> • RRR:\n",
       "                        8.94<!-- --> • Runs req: 170<!-- --> • Balls rem: 114</div></div></div></td></tr><tr class=\"\"><td class=\"ds-min-w-max ds-cursor-pointer ds-align-top\"><div class=\"ds-text-tight-s ds-font-regular ds-flex ds-justify-center ds-items-center ds-w-7 ds-h-7 ds-rounded-full ds-border ds-border-ui-stroke ds-bg-fill-content-prime\">2</div></td><td class=\"ds-min-w-max !ds-align-top ds-bg-ui-fill-translucent\"><div class=\"ds-cursor-pointer ds-pt-1\"><div class=\"ds-text-tight-m ds-font-medium ds-flex ds-items-center\"><div>18/0<span class=\"ds-text-tight-s ds-font-regular ds-ml-1 ds-text-typo-mid3\">(<!-- -->14 runs, 0 wkt<!-- -->)</span></div></div></div></td><td class=\"ds-min-w-max !ds-align-top\"><div class=\"ds-cursor-pointer ds-pt-1\"><div class=\"ds-text-tight-m ds-font-medium ds-flex ds-items-center\"><div>9/0<span class=\"ds-text-tight-s ds-font-regular ds-ml-1 ds-text-typo-mid3\">(<!-- -->6 runs, 0 wkt<!-- -->)</span></div><div class=\"ds-flex ds-space-x-1 ds-items-center ds-ml-auto\"><div class=\"ds-flex ds-items-center ds-justify-center ds-border ds-border-line-default-translucent ds-bg-ui-fill ds-h-6 ds-w-6 ds-rounded-sm\"><i class=\"icon-dropped-catch ds-text-icon\" style=\"font-size:20px\"></i></div></div></div></div></td></tr><tr class=\"\"><td class=\"ds-min-w-max ds-cursor-pointer ds-align-top\"><div class=\"ds-text-tight-s ds-font-regular ds-flex ds-justify-center ds-items-center ds-w-7 ds-h-7 ds-rounded-full ds-border ds-border-ui-stroke ds-bg-fill-content-prime\">3</div></td><td class=\"ds-min-w-max !ds-align-top\"><div class=\"ds-cursor-pointer ds-pt-1\"><div class=\"ds-text-tight-m ds-font-medium ds-flex ds-items-center\"><div>23/0<span class=\"ds-text-tight-s ds-font-regular ds-ml-1 ds-text-typo-mid3\">(<!-- -->5 runs, 0 wkt<!-- -->)</span></div></div></div></td><td class=\"ds-min-w-max !ds-align-top ds-bg-ui-fill-translucent\"><div class=\"ds-cursor-pointer ds-pt-1\"><div class=\"ds-text-tight-m ds-font-medium ds-flex ds-items-center\"><div>22/1<span class=\"ds-text-tight-s ds-font-regular ds-ml-1 ds-text-typo-mid3\">(<!-- -->13 runs, 1 wkt<!-- -->)</span></div></div></div></td></tr><tr class=\"\"><td class=\"ds-min-w-max ds-cursor-pointer ds-align-top\"><div class=\"ds-text-tight-s ds-font-regular ds-flex ds-justify-center ds-items-center ds-w-7 ds-h-7 ds-rounded-full ds-border ds-border-ui-stroke ds-bg-fill-content-prime\">4</div></td><td class=\"ds-min-w-max !ds-align-top\"><div class=\"ds-cursor-pointer ds-pt-1\"><div class=\"ds-text-tight-m ds-font-medium ds-flex ds-items-center\"><div>31/0<span class=\"ds-text-tight-s ds-font-regular ds-ml-1 ds-text-typo-mid3\">(<!-- -->8 runs, 0 wkt<!-- -->)</span></div></div></div></td><td class=\"ds-min-w-max !ds-align-top\"><div class=\"ds-cursor-pointer ds-pt-1\"><div class=\"ds-text-tight-m ds-font-medium ds-flex ds-items-center\"><div>32/1<span class=\"ds-text-tight-s ds-font-regular ds-ml-1 ds-text-typo-mid3\">(<!-- -->10 runs, 0 wkt<!-- -->)</span></div></div></div></td></tr><tr class=\"\"><td class=\"ds-min-w-max ds-cursor-pointer ds-align-top\"><div class=\"ds-text-tight-s ds-font-regular ds-flex ds-justify-center ds-items-center ds-w-7 ds-h-7 ds-rounded-full ds-border ds-border-ui-stroke ds-bg-fill-content-prime\">5</div></td><td class=\"ds-min-w-max !ds-align-top\"><div class=\"ds-cursor-pointer ds-pt-1\"><div class=\"ds-text-tight-m ds-font-medium ds-flex ds-items-center\"><div>40/0<span class=\"ds-text-tight-s ds-font-regular ds-ml-1 ds-text-typo-mid3\">(<!-- -->9 runs, 0 wkt<!-- -->)</span></div></div></div></td><td class=\"ds-min-w-max !ds-align-top\"><div class=\"ds-cursor-pointer ds-pt-1\"><div class=\"ds-text-tight-m ds-font-medium ds-flex ds-items-center\"><div>39/1<span class=\"ds-text-tight-s ds-font-regular ds-ml-1 ds-text-typo-mid3\">(<!-- -->7 runs, 0 wkt<!-- -->)</span></div></div></div></td></tr><tr class=\"\"><td class=\"ds-min-w-max ds-cursor-pointer ds-align-top\"><div class=\"ds-text-tight-s ds-font-regular ds-flex ds-justify-center ds-items-center ds-w-7 ds-h-7 ds-rounded-full ds-border ds-border-ui-stroke ds-bg-fill-content-prime\">6</div></td><td class=\"ds-min-w-max !ds-align-top\"><div class=\"ds-cursor-pointer ds-pt-1\"><div class=\"ds-text-tight-m ds-font-medium ds-flex ds-items-center\"><div>49/0<span class=\"ds-text-tight-s ds-font-regular ds-ml-1 ds-text-typo-mid3\">(<!-- -->9 runs, 0 wkt<!-- -->)</span></div><div class=\"ds-flex ds-space-x-1 ds-items-center ds-ml-auto\"><div class=\"ds-flex ds-items-center ds-justify-center ds-border ds-border-line-default-translucent ds-bg-ui-fill ds-h-6 ds-w-6 ds-rounded-sm\"><i class=\"icon-dropped-catch ds-text-icon\" style=\"font-size:20px\"></i></div></div></div></div></td><td class=\"ds-min-w-max !ds-align-top ds-bg-ui-fill-translucent\"><div class=\"ds-cursor-pointer ds-pt-1\"><div class=\"ds-text-tight-m ds-font-medium ds-flex ds-items-center\"><div>41/2<span class=\"ds-text-tight-s ds-font-regular ds-ml-1 ds-text-typo-mid3\">(<!-- -->2 runs, 1 wkt<!-- -->)</span></div></div></div></td></tr><tr class=\"\"><td class=\"ds-min-w-max ds-cursor-pointer ds-align-top\"><div class=\"ds-text-tight-s ds-font-regular ds-flex ds-justify-center ds-items-center ds-w-7 ds-h-7 ds-rounded-full ds-border ds-border-ui-stroke ds-bg-fill-content-prime\">7</div></td><td class=\"ds-min-w-max !ds-align-top\"><div class=\"ds-cursor-pointer ds-pt-1\"><div class=\"ds-text-tight-m ds-font-medium ds-flex ds-items-center\"><div>58/0<span class=\"ds-text-tight-s ds-font-regular ds-ml-1 ds-text-typo-mid3\">(<!-- -->9 runs, 0 wkt<!-- -->)</span></div></div></div></td><td class=\"ds-min-w-max !ds-align-top\"><div class=\"ds-cursor-pointer ds-pt-1\"><div class=\"ds-text-tight-m ds-font-medium ds-flex ds-items-center\"><div>46/2<span class=\"ds-text-tight-s ds-font-regular ds-ml-1 ds-text-typo-mid3\">(<!-- -->5 runs, 0 wkt<!-- -->)</span></div></div></div></td></tr><tr class=\"\"><td class=\"ds-min-w-max ds-cursor-pointer ds-align-top\"><div class=\"ds-text-tight-s ds-font-regular ds-flex ds-justify-center ds-items-center ds-w-7 ds-h-7 ds-rounded-full ds-border ds-border-ui-stroke ds-bg-fill-content-prime\">8</div></td><td class=\"ds-min-w-max !ds-align-top\"><div class=\"ds-cursor-pointer ds-pt-1\"><div class=\"ds-text-tight-m ds-font-medium ds-flex ds-items-center\"><div>64/0<span class=\"ds-text-tight-s ds-font-regular ds-ml-1 ds-text-typo-mid3\">(<!-- -->6 runs, 0 wkt<!-- -->)</span></div></div></div></td><td class=\"ds-min-w-max !ds-align-top\"><div class=\"ds-cursor-pointer ds-pt-1\"><div class=\"ds-text-tight-m ds-font-medium ds-flex ds-items-center\"><div>52/2<span class=\"ds-text-tight-s ds-font-regular ds-ml-1 ds-text-typo-mid3\">(<!-- -->6 runs, 0 wkt<!-- -->)</span></div></div></div></td></tr><tr class=\"\"><td class=\"ds-min-w-max ds-cursor-pointer ds-align-top\"><div class=\"ds-text-tight-s ds-font-regular ds-flex ds-justify-center ds-items-center ds-w-7 ds-h-7 ds-rounded-full ds-border ds-border-ui-stroke ds-bg-fill-content-prime\">9</div></td><td class=\"ds-min-w-max !ds-align-top ds-bg-ui-fill-translucent\"><div class=\"ds-cursor-pointer ds-pt-1\"><div class=\"ds-text-tight-m ds-font-medium ds-flex ds-items-center\"><div>76/0<span class=\"ds-text-tight-s ds-font-regular ds-ml-1 ds-text-typo-mid3\">(<!-- -->12 runs, 0 wkt<!-- -->)</span></div></div></div></td><td class=\"ds-min-w-max !ds-align-top\"><div class=\"ds-cursor-pointer ds-pt-1\"><div class=\"ds-text-tight-m ds-font-medium ds-flex ds-items-center\"><div>59/2<span class=\"ds-text-tight-s ds-font-regular ds-ml-1 ds-text-typo-mid3\">(<!-- -->7 runs, 0 wkt<!-- -->)</span></div></div></div></td></tr><tr class=\"\"><td class=\"ds-min-w-max ds-cursor-pointer ds-align-top\"><div class=\"ds-text-tight-s ds-font-regular ds-flex ds-justify-center ds-items-center ds-w-7 ds-h-7 ds-rounded-full ds-border ds-border-ui-stroke ds-bg-fill-content-prime\">10</div></td><td class=\"ds-min-w-max !ds-align-top\"><div class=\"ds-cursor-pointer ds-pt-1\"><div class=\"ds-text-tight-m ds-font-medium ds-flex ds-items-center\"><div>85/0<span class=\"ds-text-tight-s ds-font-regular ds-ml-1 ds-text-typo-mid3\">(<!-- -->9 runs, 0 wkt<!-- -->)</span></div></div></div></td><td class=\"ds-min-w-max !ds-align-top ds-bg-ui-fill-translucent\"><div class=\"ds-cursor-pointer ds-pt-1\"><div class=\"ds-text-tight-m ds-font-medium ds-flex ds-items-center\"><div>72/2<span class=\"ds-text-tight-s ds-font-regular ds-ml-1 ds-text-typo-mid3\">(<!-- -->13 runs, 0 wkt<!-- -->)</span></div></div></div></td></tr><tr class=\"\"><td class=\"ds-min-w-max ds-cursor-pointer ds-align-top\"><div class=\"ds-text-tight-s ds-font-regular ds-flex ds-justify-center ds-items-center ds-w-7 ds-h-7 ds-rounded-full ds-border ds-border-ui-stroke ds-bg-fill-content-prime\">11</div></td><td class=\"ds-min-w-max !ds-align-top\"><div class=\"ds-cursor-pointer ds-pt-1\"><div class=\"ds-text-tight-m ds-font-medium ds-flex ds-items-center\"><div>89/1<span class=\"ds-text-tight-s ds-font-regular ds-ml-1 ds-text-typo-mid3\">(<!-- -->4 runs, 1 wkt<!-- -->)</span></div></div></div></td><td class=\"ds-min-w-max !ds-align-top ds-bg-ui-fill-translucent\"><div class=\"ds-cursor-pointer ds-pt-1\"><div class=\"ds-text-tight-m ds-font-medium ds-flex ds-items-center\"><div>74/3<span class=\"ds-text-tight-s ds-font-regular ds-ml-1 ds-text-typo-mid3\">(<!-- -->2 runs, 1 wkt<!-- -->)</span></div></div></div></td></tr><tr class=\"\"><td class=\"ds-min-w-max ds-cursor-pointer ds-align-top\"><div class=\"ds-text-tight-s ds-font-regular ds-flex ds-justify-center ds-items-center ds-w-7 ds-h-7 ds-rounded-full ds-border ds-border-ui-stroke ds-bg-fill-content-prime\">12</div></td><td class=\"ds-min-w-max !ds-align-top\"><div class=\"ds-cursor-pointer ds-pt-1\"><div class=\"ds-text-tight-m ds-font-medium ds-flex ds-items-center\"><div>94/2<span class=\"ds-text-tight-s ds-font-regular ds-ml-1 ds-text-typo-mid3\">(<!-- -->5 runs, 1 wkt<!-- -->)</span></div></div></div></td><td class=\"ds-min-w-max !ds-align-top\"><div class=\"ds-cursor-pointer ds-pt-1\"><div class=\"ds-text-tight-m ds-font-medium ds-flex ds-items-center\"><div>84/3<span class=\"ds-text-tight-s ds-font-regular ds-ml-1 ds-text-typo-mid3\">(<!-- -->10 runs, 0 wkt<!-- -->)</span></div></div></div></td></tr><tr class=\"\"><td class=\"ds-min-w-max ds-cursor-pointer ds-align-top\"><div class=\"ds-text-tight-s ds-font-regular ds-flex ds-justify-center ds-items-center ds-w-7 ds-h-7 ds-rounded-full ds-border ds-border-ui-stroke ds-bg-fill-content-prime\">13</div></td><td class=\"ds-min-w-max !ds-align-top\"><div class=\"ds-cursor-pointer ds-pt-1\"><div class=\"ds-text-tight-m ds-font-medium ds-flex ds-items-center\"><div>99/2<span class=\"ds-text-tight-s ds-font-regular ds-ml-1 ds-text-typo-mid3\">(<!-- -->5 runs, 0 wkt<!-- -->)</span></div></div></div></td><td class=\"ds-min-w-max !ds-align-top\"><div class=\"ds-cursor-pointer ds-pt-1\"><div class=\"ds-text-tight-m ds-font-medium ds-flex ds-items-center\"><div>88/4<span class=\"ds-text-tight-s ds-font-regular ds-ml-1 ds-text-typo-mid3\">(<!-- -->4 runs, 1 wkt<!-- -->)</span></div></div></div></td></tr><tr class=\"\"><td class=\"ds-min-w-max ds-cursor-pointer ds-align-top\"><div class=\"ds-text-tight-s ds-font-regular ds-flex ds-justify-center ds-items-center ds-w-7 ds-h-7 ds-rounded-full ds-border ds-border-ui-stroke ds-bg-fill-content-prime\">14</div></td><td class=\"ds-min-w-max !ds-align-top\"><div class=\"ds-cursor-pointer ds-pt-1\"><div class=\"ds-text-tight-m ds-font-medium ds-flex ds-items-center\"><div>107/2<span class=\"ds-text-tight-s ds-font-regular ds-ml-1 ds-text-typo-mid3\">(<!-- -->8 runs, 0 wkt<!-- -->)</span></div><div class=\"ds-flex ds-space-x-1 ds-items-center ds-ml-auto\"><div class=\"ds-flex ds-items-center ds-justify-center ds-border ds-border-line-default-translucent ds-bg-ui-fill ds-h-6 ds-w-6 ds-rounded-sm\"><i class=\"icon-dropped-catch ds-text-icon\" style=\"font-size:20px\"></i></div></div></div></div></td><td class=\"ds-min-w-max !ds-align-top\"><div class=\"ds-cursor-pointer ds-pt-1\"><div class=\"ds-text-tight-m ds-font-medium ds-flex ds-items-center\"><div>95/5<span class=\"ds-text-tight-s ds-font-regular ds-ml-1 ds-text-typo-mid3\">(<!-- -->7 runs, 1 wkt<!-- -->)</span></div></div></div></td></tr><tr class=\"\"><td class=\"ds-min-w-max ds-cursor-pointer ds-align-top\"><div class=\"ds-text-tight-s ds-font-regular ds-flex ds-justify-center ds-items-center ds-w-7 ds-h-7 ds-rounded-full ds-border ds-border-ui-stroke ds-bg-fill-content-prime\">15</div></td><td class=\"ds-min-w-max !ds-align-top ds-bg-ui-fill-translucent\"><div class=\"ds-cursor-pointer ds-pt-1\"><div class=\"ds-text-tight-m ds-font-medium ds-flex ds-items-center\"><div>125/3<span class=\"ds-text-tight-s ds-font-regular ds-ml-1 ds-text-typo-mid3\">(<!-- -->18 runs, 1 wkt<!-- -->)</span></div></div></div></td><td class=\"ds-min-w-max !ds-align-top\"><div class=\"ds-cursor-pointer ds-pt-1\"><div class=\"ds-text-tight-m ds-font-medium ds-flex ds-items-center\"><div>102/6<span class=\"ds-text-tight-s ds-font-regular ds-ml-1 ds-text-typo-mid3\">(<!-- -->7 runs, 1 wkt<!-- -->)</span></div></div></div></td></tr><tr class=\"\"><td class=\"ds-min-w-max ds-cursor-pointer ds-align-top\"><div class=\"ds-text-tight-s ds-font-regular ds-flex ds-justify-center ds-items-center ds-w-7 ds-h-7 ds-rounded-full ds-border ds-border-ui-stroke ds-bg-fill-content-prime\">16</div></td><td class=\"ds-min-w-max !ds-align-top\"><div class=\"ds-cursor-pointer ds-pt-1\"><div class=\"ds-text-tight-m ds-font-medium ds-flex ds-items-center\"><div>131/4<span class=\"ds-text-tight-s ds-font-regular ds-ml-1 ds-text-typo-mid3\">(<!-- -->6 runs, 1 wkt<!-- -->)</span></div><div class=\"ds-flex ds-space-x-1 ds-items-center ds-ml-auto\"><div class=\"ds-flex ds-items-center ds-justify-center ds-border ds-border-line-default-translucent ds-bg-ui-fill ds-h-6 ds-w-6 ds-rounded-sm\"><i class=\"icon-run-out ds-text-icon\" style=\"font-size:20px\"></i></div></div></div></div></td><td class=\"ds-min-w-max !ds-align-top ds-bg-ui-fill-translucent\"><div class=\"ds-cursor-pointer ds-pt-1\"><div class=\"ds-text-tight-m ds-font-medium ds-flex ds-items-center\"><div>115/6<span class=\"ds-text-tight-s ds-font-regular ds-ml-1 ds-text-typo-mid3\">(<!-- -->13 runs, 0 wkt<!-- -->)</span></div></div></div></td></tr><tr class=\"\"><td class=\"ds-min-w-max ds-cursor-pointer ds-align-top\"><div class=\"ds-text-tight-s ds-font-regular ds-flex ds-justify-center ds-items-center ds-w-7 ds-h-7 ds-rounded-full ds-border ds-border-ui-stroke ds-bg-fill-content-prime\">17</div></td><td class=\"ds-min-w-max !ds-align-top\"><div class=\"ds-cursor-pointer ds-pt-1\"><div class=\"ds-text-tight-m ds-font-medium ds-flex ds-items-center\"><div>137/4<span class=\"ds-text-tight-s ds-font-regular ds-ml-1 ds-text-typo-mid3\">(<!-- -->6 runs, 0 wkt<!-- -->)</span></div></div></div></td><td class=\"ds-min-w-max !ds-align-top ds-bg-ui-fill-translucent\"><div class=\"ds-cursor-pointer ds-pt-1\"><div class=\"ds-text-tight-m ds-font-medium ds-flex ds-items-center\"><div>134/6<span class=\"ds-text-tight-s ds-font-regular ds-ml-1 ds-text-typo-mid3\">(<!-- -->19 runs, 0 wkt<!-- -->)</span></div></div></div></td></tr><tr class=\"\"><td class=\"ds-min-w-max ds-cursor-pointer ds-align-top\"><div class=\"ds-text-tight-s ds-font-regular ds-flex ds-justify-center ds-items-center ds-w-7 ds-h-7 ds-rounded-full ds-border ds-border-ui-stroke ds-bg-fill-content-prime\">18</div></td><td class=\"ds-min-w-max !ds-align-top\"><div class=\"ds-cursor-pointer ds-pt-1\"><div class=\"ds-text-tight-m ds-font-medium ds-flex ds-items-center\"><div>148/5<span class=\"ds-text-tight-s ds-font-regular ds-ml-1 ds-text-typo-mid3\">(<!-- -->11 runs, 1 wkt<!-- -->)</span></div><div class=\"ds-flex ds-space-x-1 ds-items-center ds-ml-auto\"><div class=\"ds-flex ds-items-center ds-justify-center ds-border ds-border-line-default-translucent ds-bg-ui-fill ds-h-6 ds-w-6 ds-rounded-sm\"><i class=\"icon-run-out ds-text-icon\" style=\"font-size:20px\"></i></div></div></div></div></td><td class=\"ds-min-w-max !ds-align-top ds-bg-ui-fill-translucent\"><div class=\"ds-cursor-pointer ds-pt-1\"><div class=\"ds-text-tight-m ds-font-medium ds-flex ds-items-center\"><div>138/8<span class=\"ds-text-tight-s ds-font-regular ds-ml-1 ds-text-typo-mid3\">(<!-- -->4 runs, 2 wkts<!-- -->)</span></div><div class=\"ds-flex ds-space-x-1 ds-items-center ds-ml-auto\"><div class=\"ds-flex ds-items-center ds-justify-center ds-border ds-border-line-default-translucent ds-bg-ui-fill ds-h-6 ds-w-6 ds-rounded-sm\"><i class=\"icon-drs ds-text-icon\" style=\"font-size:20px\"></i></div><div class=\"ds-flex ds-items-center ds-justify-center ds-border-line-default-translucent ds-bg-ui-fill ds-h-6 ds-w-6 ds-rounded-sm\"><i class=\"icon-trending-down ds-text-icon-error hover:ds-text-icon-error-hover\" style=\"font-size:20px\"></i></div></div></div></div></td></tr><tr class=\"\"><td class=\"ds-min-w-max ds-cursor-pointer ds-align-top\"><div class=\"ds-text-tight-s ds-font-regular ds-flex ds-justify-center ds-items-center ds-w-7 ds-h-7 ds-rounded-full ds-border ds-border-ui-stroke ds-bg-fill-content-prime\">19</div></td><td class=\"ds-min-w-max !ds-align-top\"><div class=\"ds-cursor-pointer ds-pt-1\"><div class=\"ds-text-tight-m ds-font-medium ds-flex ds-items-center\"><div>157/6<span class=\"ds-text-tight-s ds-font-regular ds-ml-1 ds-text-typo-mid3\">(<!-- -->9 runs, 1 wkt<!-- -->)</span></div></div></div></td><td class=\"ds-min-w-max !ds-align-top\"><div class=\"ds-cursor-pointer ds-pt-1\"><div class=\"ds-text-tight-m ds-font-medium ds-flex ds-items-center\"><div>146/9<span class=\"ds-text-tight-s ds-font-regular ds-ml-1 ds-text-typo-mid3\">(<!-- -->8 runs, 1 wkt<!-- -->)</span></div></div></div></td></tr><tr class=\"\"><td class=\"ds-min-w-max ds-cursor-pointer ds-align-top\"><div class=\"ds-text-tight-s ds-font-regular ds-flex ds-justify-center ds-items-center ds-w-7 ds-h-7 ds-rounded-full ds-border ds-border-ui-stroke ds-bg-fill-content-prime\">20</div></td><td class=\"ds-min-w-max !ds-align-top ds-bg-ui-fill-translucent\"><div class=\"ds-cursor-pointer ds-pt-1\"><div class=\"ds-text-tight-m ds-font-medium ds-flex ds-items-center\"><div>172/7<span class=\"ds-text-tight-s ds-font-regular ds-ml-1 ds-text-typo-mid3\">(<!-- -->15 runs, 1 wkt<!-- -->)</span></div></div></div></td><td class=\"ds-min-w-max !ds-align-top\"><div class=\"ds-cursor-pointer ds-pt-1\"><div class=\"ds-text-tight-m ds-font-medium ds-flex ds-items-center\"><div>157/10<span class=\"ds-text-tight-s ds-font-regular ds-ml-1 ds-text-typo-mid3\">(<!-- -->11 runs, 1 wkt<!-- -->)</span></div></div></div></td></tr></tbody></table>"
      ]
     },
     "execution_count": 7,
     "metadata": {},
     "output_type": "execute_result"
    }
   ],
   "source": [
    "table = soup.find('table', class_='ds-w-full ds-table ds-table-md ds-table-bordered ds-border-collapse ds-border ds-border-line ds-table-fixed')\n",
    "table"
   ]
  },
  {
   "cell_type": "code",
   "execution_count": 14,
   "id": "76c73b7a",
   "metadata": {},
   "outputs": [],
   "source": [
    "import csv\n",
    "headers = [th.text.strip() for th in table.find_all('th')]\n",
    "\n",
    "# Extract the table rows\n",
    "rows = []\n",
    "for tr in table.find_all('tr'):\n",
    "    row = [td.text.strip() for td in tr.find_all('td')]\n",
    "    if row:\n",
    "        rows.append(row)\n",
    "c=[]\n",
    "for i in range(len(rows)):\n",
    "    b=[]\n",
    "    for j in range(len(rows[i])):\n",
    "        if(len(rows[i][j])>4):\n",
    "            for k in range(len(rows[i][j])):\n",
    "                if rows[i][j][k]=='(':\n",
    "                    #print(rows[i][j][k])\n",
    "                    b.append(rows[i][j][0:k])\n",
    "            #b.append(rows[i][j][0:5])\n",
    "        else:\n",
    "            b.append(rows[i][j])\n",
    "    c.append(b)\n",
    "#print(c)\n",
    "with open(r\"C:\\Users\\SuryaSabari\\Downloads\\t1 - Sheet1.csv\",'w',newline='') as f:\n",
    "    writer = csv.writer(f)\n",
    "\n",
    "    # write the header\n",
    "    writer.writerow(headers)\n",
    "\n",
    "    # write multiple rows\n",
    "    writer.writerows(c)\n",
    "    \n",
    "#print(rows)"
   ]
  },
  {
   "cell_type": "code",
   "execution_count": 8,
   "id": "287d463f",
   "metadata": {},
   "outputs": [
    {
     "data": {
      "text/html": [
       "<div>\n",
       "<style scoped>\n",
       "    .dataframe tbody tr th:only-of-type {\n",
       "        vertical-align: middle;\n",
       "    }\n",
       "\n",
       "    .dataframe tbody tr th {\n",
       "        vertical-align: top;\n",
       "    }\n",
       "\n",
       "    .dataframe thead th {\n",
       "        text-align: right;\n",
       "    }\n",
       "</style>\n",
       "<table border=\"1\" class=\"dataframe\">\n",
       "  <thead>\n",
       "    <tr style=\"text-align: right;\">\n",
       "      <th></th>\n",
       "      <th>Ovs</th>\n",
       "      <th>Super Kings</th>\n",
       "      <th>Titans</th>\n",
       "    </tr>\n",
       "  </thead>\n",
       "  <tbody>\n",
       "    <tr>\n",
       "      <th>0</th>\n",
       "      <td>1</td>\n",
       "      <td>4/0</td>\n",
       "      <td>3/0</td>\n",
       "    </tr>\n",
       "    <tr>\n",
       "      <th>1</th>\n",
       "      <td>2</td>\n",
       "      <td>18/0</td>\n",
       "      <td>9/0</td>\n",
       "    </tr>\n",
       "    <tr>\n",
       "      <th>2</th>\n",
       "      <td>3</td>\n",
       "      <td>23/0</td>\n",
       "      <td>22/1</td>\n",
       "    </tr>\n",
       "    <tr>\n",
       "      <th>3</th>\n",
       "      <td>4</td>\n",
       "      <td>31/0</td>\n",
       "      <td>32/1</td>\n",
       "    </tr>\n",
       "    <tr>\n",
       "      <th>4</th>\n",
       "      <td>5</td>\n",
       "      <td>40/0</td>\n",
       "      <td>39/1</td>\n",
       "    </tr>\n",
       "    <tr>\n",
       "      <th>5</th>\n",
       "      <td>6</td>\n",
       "      <td>49/0</td>\n",
       "      <td>41/2</td>\n",
       "    </tr>\n",
       "    <tr>\n",
       "      <th>6</th>\n",
       "      <td>7</td>\n",
       "      <td>58/0</td>\n",
       "      <td>46/2</td>\n",
       "    </tr>\n",
       "    <tr>\n",
       "      <th>7</th>\n",
       "      <td>8</td>\n",
       "      <td>64/0</td>\n",
       "      <td>52/2</td>\n",
       "    </tr>\n",
       "    <tr>\n",
       "      <th>8</th>\n",
       "      <td>9</td>\n",
       "      <td>76/0</td>\n",
       "      <td>59/2</td>\n",
       "    </tr>\n",
       "    <tr>\n",
       "      <th>9</th>\n",
       "      <td>10</td>\n",
       "      <td>85/0</td>\n",
       "      <td>72/2</td>\n",
       "    </tr>\n",
       "    <tr>\n",
       "      <th>10</th>\n",
       "      <td>11</td>\n",
       "      <td>89/1</td>\n",
       "      <td>74/3</td>\n",
       "    </tr>\n",
       "    <tr>\n",
       "      <th>11</th>\n",
       "      <td>12</td>\n",
       "      <td>94/2</td>\n",
       "      <td>84/3</td>\n",
       "    </tr>\n",
       "    <tr>\n",
       "      <th>12</th>\n",
       "      <td>13</td>\n",
       "      <td>99/2</td>\n",
       "      <td>88/4</td>\n",
       "    </tr>\n",
       "    <tr>\n",
       "      <th>13</th>\n",
       "      <td>14</td>\n",
       "      <td>107/2</td>\n",
       "      <td>95/5</td>\n",
       "    </tr>\n",
       "    <tr>\n",
       "      <th>14</th>\n",
       "      <td>15</td>\n",
       "      <td>125/3</td>\n",
       "      <td>102/6</td>\n",
       "    </tr>\n",
       "    <tr>\n",
       "      <th>15</th>\n",
       "      <td>16</td>\n",
       "      <td>131/4</td>\n",
       "      <td>115/6</td>\n",
       "    </tr>\n",
       "    <tr>\n",
       "      <th>16</th>\n",
       "      <td>17</td>\n",
       "      <td>137/4</td>\n",
       "      <td>134/6</td>\n",
       "    </tr>\n",
       "    <tr>\n",
       "      <th>17</th>\n",
       "      <td>18</td>\n",
       "      <td>148/5</td>\n",
       "      <td>138/8</td>\n",
       "    </tr>\n",
       "    <tr>\n",
       "      <th>18</th>\n",
       "      <td>19</td>\n",
       "      <td>157/6</td>\n",
       "      <td>146/9</td>\n",
       "    </tr>\n",
       "    <tr>\n",
       "      <th>19</th>\n",
       "      <td>20</td>\n",
       "      <td>172/7</td>\n",
       "      <td>157/10</td>\n",
       "    </tr>\n",
       "  </tbody>\n",
       "</table>\n",
       "</div>"
      ],
      "text/plain": [
       "    Ovs Super Kings  Titans\n",
       "0     1         4/0     3/0\n",
       "1     2        18/0     9/0\n",
       "2     3        23/0    22/1\n",
       "3     4        31/0    32/1\n",
       "4     5        40/0    39/1\n",
       "5     6        49/0    41/2\n",
       "6     7        58/0    46/2\n",
       "7     8        64/0    52/2\n",
       "8     9        76/0    59/2\n",
       "9    10        85/0    72/2\n",
       "10   11        89/1    74/3\n",
       "11   12        94/2    84/3\n",
       "12   13        99/2    88/4\n",
       "13   14       107/2    95/5\n",
       "14   15       125/3   102/6\n",
       "15   16       131/4   115/6\n",
       "16   17       137/4   134/6\n",
       "17   18       148/5   138/8\n",
       "18   19       157/6   146/9\n",
       "19   20       172/7  157/10"
      ]
     },
     "execution_count": 8,
     "metadata": {},
     "output_type": "execute_result"
    }
   ],
   "source": [
    "df=pd.read_csv(r\"C:\\Users\\SuryaSabari\\Downloads\\t1 - Sheet1.csv\")\n",
    "df"
   ]
  },
  {
   "cell_type": "code",
   "execution_count": 15,
   "id": "3516a0df",
   "metadata": {},
   "outputs": [],
   "source": [
    "url1=\"https://www.espncricinfo.com/series/indian-premier-league-2023-1345038/chennai-super-kings-vs-gujarat-titans-qualifier-1-1370350/full-scorecard\"\n",
    "response = requests.get(url1)"
   ]
  },
  {
   "cell_type": "code",
   "execution_count": 16,
   "id": "ea7396f6",
   "metadata": {},
   "outputs": [],
   "source": [
    "soup1 = BeautifulSoup(response.content, 'html.parser')"
   ]
  },
  {
   "cell_type": "code",
   "execution_count": 17,
   "id": "116e0581",
   "metadata": {},
   "outputs": [
    {
     "data": {
      "text/plain": [
       "<ul class=\"ds-text-tight-s ds-font-regular ds-list-disc ds-pt-2 ds-px-4 ds-mb-4\"><li class=\"ds-text-tight-s ds-font-regular ds-text-typo-mid2 ds-py-1\"><span><strong class=\"ds-text-typo-mid2\">Chennai Super Kings innings</strong></span></li><li class=\"ds-text-tight-s ds-font-regular ds-text-typo-mid2 ds-py-1\"><span>Powerplay 1: Overs 0.1 - 6.0 (Mandatory - 49 runs, 0 wicket)</span></li><li class=\"ds-text-tight-s ds-font-regular ds-text-typo-mid2 ds-py-1\"><span>Strategic Timeout: Chennai Super Kings - 49/0 in 6.0 overs (RD Gaikwad 33, DP Conway 14)</span></li><li class=\"ds-text-tight-s ds-font-regular ds-text-typo-mid2 ds-py-1\"><span>Chennai Super Kings: 50 runs in 6.1 overs (38 balls), Extras 2</span></li><li class=\"ds-text-tight-s ds-font-regular ds-text-typo-mid2 ds-py-1\"><span>1st Wicket: 50 runs in 38 balls (RD Gaikwad 35, DP Conway 14, Ex 2)</span></li><li class=\"ds-text-tight-s ds-font-regular ds-text-typo-mid2 ds-py-1\"><span>RD Gaikwad: 50 off 36 balls (6 x 4, 1 x 6)</span></li><li class=\"ds-text-tight-s ds-font-regular ds-text-typo-mid2 ds-py-1\"><span>Strategic Timeout: Chennai Super Kings - 99/2 in 13.0 overs (DP Conway 31, AM Rahane 4)</span></li><li class=\"ds-text-tight-s ds-font-regular ds-text-typo-mid2 ds-py-1\"><span>Chennai Super Kings: 100 runs in 13.1 overs (80 balls), Extras 3</span></li><li class=\"ds-text-tight-s ds-font-regular ds-text-typo-mid2 ds-py-1\"><span>Chennai Super Kings: 150 runs in 18.2 overs (111 balls), Extras 3</span></li><li class=\"ds-text-tight-s ds-font-regular ds-text-typo-mid2 ds-py-1\"><span>GT were imposed penalty for slow over-rate in the 20th over</span></li><li class=\"ds-text-tight-s ds-font-regular ds-text-typo-mid2 ds-py-1\"><span>Innings Break: Chennai Super Kings - 172/7 in 20.0 overs (MM Ali 9)</span></li></ul>"
      ]
     },
     "execution_count": 17,
     "metadata": {},
     "output_type": "execute_result"
    }
   ],
   "source": [
    "ul_element = soup1.find('ul',class_='ds-text-tight-s ds-font-regular ds-list-disc ds-pt-2 ds-px-4 ds-mb-4')  # You can modify the selector as per your specific case\n",
    "ul_element\n",
    "#<ul class=\"ds-text-tight-s ds-font-regular ds-list-disc ds-pt-2 ds-px-4 ds-mb-4\"><li class=\"ds-text-tight-s ds-font-regular ds-text-typo-mid2 ds-py-1\"><span><strong class=\"ds-text-typo-mid2\">Chennai Super Kings innings</strong></span></li><li class=\"ds-text-tight-s ds-font-regular ds-text-typo-mid2 ds-py-1\"><span>Powerplay 1: Overs 0.1 - 6.0 (Mandatory - 49 runs, 0 wicket)</span></li><li class=\"ds-text-tight-s ds-font-regular ds-text-typo-mid2 ds-py-1\"><span>Strategic Timeout: Chennai Super Kings - 49/0 in 6.0 overs (RD Gaikwad 33, DP Conway 14)</span></li><li class=\"ds-text-tight-s ds-font-regular ds-text-typo-mid2 ds-py-1\"><span>Chennai Super Kings: 50 runs in 6.1 overs (38 balls), Extras 2</span></li><li class=\"ds-text-tight-s ds-font-regular ds-text-typo-mid2 ds-py-1\"><span>1st Wicket: 50 runs in 38 balls (RD Gaikwad 35, DP Conway 14, Ex 2)</span></li><li class=\"ds-text-tight-s ds-font-regular ds-text-typo-mid2 ds-py-1\"><span>RD Gaikwad: 50 off 36 balls (6 x 4, 1 x 6)</span></li><li class=\"ds-text-tight-s ds-font-regular ds-text-typo-mid2 ds-py-1\"><span>Strategic Timeout: Chennai Super Kings - 99/2 in 13.0 overs (DP Conway 31, AM Rahane 4)</span></li><li class=\"ds-text-tight-s ds-font-regular ds-text-typo-mid2 ds-py-1\"><span>Chennai Super Kings: 100 runs in 13.1 overs (80 balls), Extras 3</span></li><li class=\"ds-text-tight-s ds-font-regular ds-text-typo-mid2 ds-py-1\"><span>Chennai Super Kings: 150 runs in 18.2 overs (111 balls), Extras 3</span></li><li class=\"ds-text-tight-s ds-font-regular ds-text-typo-mid2 ds-py-1\"><span>GT were imposed penalty for slow over-rate in the 20th over</span></li><li class=\"ds-text-tight-s ds-font-regular ds-text-typo-mid2 ds-py-1\"><span>Innings Break: Chennai Super Kings - 172/7 in 20.0 overs (MM Ali 9)</span></li></ul>"
   ]
  },
  {
   "cell_type": "code",
   "execution_count": 18,
   "id": "555cdfed",
   "metadata": {},
   "outputs": [],
   "source": [
    "list_items = ul_element.find_all('li')\n"
   ]
  },
  {
   "cell_type": "code",
   "execution_count": 21,
   "id": "338714de",
   "metadata": {},
   "outputs": [
    {
     "name": "stdout",
     "output_type": "stream",
     "text": [
      "Chennai Super Kings innings\n",
      "Powerplay 1: Overs 0.1 - 6.0 (Mandatory - 49 runs, 0 wicket)\n",
      "Strategic Timeout: Chennai Super Kings - 49/0 in 6.0 overs (RD Gaikwad 33, DP Conway 14)\n",
      "Chennai Super Kings: 50 runs in 6.1 overs (38 balls), Extras 2\n",
      "1st Wicket: 50 runs in 38 balls (RD Gaikwad 35, DP Conway 14, Ex 2)\n",
      "RD Gaikwad: 50 off 36 balls (6 x 4, 1 x 6)\n",
      "Strategic Timeout: Chennai Super Kings - 99/2 in 13.0 overs (DP Conway 31, AM Rahane 4)\n",
      "Chennai Super Kings: 100 runs in 13.1 overs (80 balls), Extras 3\n",
      "Chennai Super Kings: 150 runs in 18.2 overs (111 balls), Extras 3\n",
      "GT were imposed penalty for slow over-rate in the 20th over\n",
      "Innings Break: Chennai Super Kings - 172/7 in 20.0 overs (MM Ali 9)\n"
     ]
    }
   ],
   "source": [
    "file_path = r\"C:\\Users\\SuryaSabari\\Desktop\\csk inn.txt\"  # Replace with the desired file path\n",
    "file = open(file_path, \"w\")\n",
    "\n",
    "for li in list_items:\n",
    "    print(li.text)\n",
    "    file.write(li.text+\"\\n\")\n",
    "file.close()\n"
   ]
  },
  {
   "cell_type": "code",
   "execution_count": 28,
   "id": "45d4c04f",
   "metadata": {},
   "outputs": [],
   "source": [
    "url1=\"https://www.espncricinfo.com/series/indian-premier-league-2023-1345038/chennai-super-kings-vs-gujarat-titans-qualifier-1-1370350/full-scorecard\"\n",
    "response = requests.get(url1)"
   ]
  },
  {
   "cell_type": "code",
   "execution_count": 29,
   "id": "5ceb5247",
   "metadata": {},
   "outputs": [],
   "source": [
    "soup = BeautifulSoup(response.content, 'html.parser')\n"
   ]
  },
  {
   "cell_type": "code",
   "execution_count": 44,
   "id": "9c9c9673",
   "metadata": {},
   "outputs": [
    {
     "name": "stdout",
     "output_type": "stream",
     "text": [
      "Gujarat Titans innings\n",
      "Powerplay 1: Overs 0.1 - 6.0 (Mandatory - 41 runs, 2 wickets)\n",
      "Gujarat Titans: 50 runs in 7.3 overs (45 balls), Extras 1\n",
      "Strategic Timeout: Gujarat Titans - 59/2 in 9.0 overs (Shubman Gill 32, MD Shanaka 6)\n",
      "Gujarat Titans: 100 runs in 14.4 overs (88 balls), Extras 8\n",
      "Strategic Timeout: Gujarat Titans - 115/6 in 16.0 overs (V Shankar 6, Rashid Khan 15)\n",
      "Over 17.5: Review by Chennai Super Kings (Bowling), Decision Challenged - Wicket, Umpire - AK Chaudhary, Batter - Rashid Khan (Struck down)\n",
      "CSK were imposed penalty for slow over-rate in the 20th over\n",
      "Gujarat Titans: 150 runs in 19.2 overs (116 balls), Extras 14\n"
     ]
    }
   ],
   "source": [
    "ul_element = soup1.find_all('ul',class_='ds-text-tight-s ds-font-regular ds-list-disc ds-pt-2 ds-px-4 ds-mb-4')  # You can modify the selector as per your specific case\n",
    "ul=ul_element[1]\n",
    "list_items = ul.find_all('li')\n",
    "list_items\n",
    "file_path = r\"C:\\Users\\SuryaSabari\\Desktop\\gt inn.txt\"  # Replace with the desired file path\n",
    "file = open(file_path, \"w\")\n",
    "\n",
    "for li in list_items:\n",
    "    print(li.text)\n",
    "    file.write(li.text+\"\\n\")\n",
    "file.close()"
   ]
  },
  {
   "cell_type": "code",
   "execution_count": null,
   "id": "011bc19f",
   "metadata": {},
   "outputs": [],
   "source": [
    "url1=\"https://www.espncricinfo.com/series/indian-premier-league-2023-1345038/chennai-super-kings-vs-gujarat-titans-qualifier-1-1370350/full-scorecard\"\n",
    "response = requests.get(url1)"
   ]
  },
  {
   "cell_type": "code",
   "execution_count": null,
   "id": "4fe440d1",
   "metadata": {},
   "outputs": [],
   "source": [
    "soup = BeautifulSoup(response.content, 'html.parser')"
   ]
  },
  {
   "cell_type": "code",
   "execution_count": 48,
   "id": "7be64b83",
   "metadata": {},
   "outputs": [
    {
     "name": "stdout",
     "output_type": "stream",
     "text": [
      "[]\n"
     ]
    }
   ],
   "source": [
    "table = soup.find_all('table', class_='ds-rounded-lg ds-mt-2')\n",
    "print(table)"
   ]
  },
  {
   "cell_type": "code",
   "execution_count": null,
   "id": "e2b70e89",
   "metadata": {},
   "outputs": [],
   "source": [
    "<div class=\"ds-rounded-lg ds-mt-2\"><div class=\"ds-w-full ds-bg-fill-content-prime ds-overflow-hidden ds-rounded-xl ds-border ds-border-line ds-mb-4\"><div class=\"ds-flex ds-px-4 ds-border-b ds-border-line ds-py-3 ds-bg-ui-fill-translucent-hover\"><div class=\"ds-flex ds-flex-col ds-grow ds-justify-center\"><span class=\"ds-text-title-xs ds-font-bold ds-text-typo\"><span class=\"ds-text-title-xs ds-font-bold ds-capitalize\">Chennai Super Kings</span><span class=\"ds-text-compact-xs ds-font-regular\">&nbsp;&nbsp;(20 ovs maximum)</span></span></div></div><div class=\"ds-p-0\"><table class=\"ds-w-full ds-table ds-table-md ds-table-auto  ci-scorecard-table\"><thead class=\"ds-bg-fill-content-alternate ds-text-left\"><tr class=\"ds-text-right\"><th class=\"ds-w-0 ds-whitespace-nowrap ds-min-w-max ds-text-left\">BATTING</th><th class=\"ds-min-w-max\">&nbsp;</th><th class=\"ds-w-0 ds-whitespace-nowrap ds-min-w-max\">R</th><th class=\"ds-w-0 ds-whitespace-nowrap ds-min-w-max\">B</th><th class=\"ds-w-0 ds-whitespace-nowrap ds-min-w-max\">M</th><th class=\"ds-w-0 ds-whitespace-nowrap ds-min-w-max\">4s</th><th class=\"ds-w-0 ds-whitespace-nowrap ds-min-w-max\">6s</th><th class=\"ds-w-0 ds-whitespace-nowrap ds-min-w-max\">SR</th></tr></thead><tbody class=\"\"><tr class=\"\"><td class=\"ds-w-0 ds-whitespace-nowrap ds-min-w-max ds-flex ds-items-center\"><a href=\"/cricketers/ruturaj-gaikwad-1060380\" title=\"Ruturaj Gaikwad\" class=\"ds-inline-flex ds-items-start ds-leading-none\"><span class=\"ds-text-tight-s ds-font-medium ds-text-typo ds-underline ds-decoration-ui-stroke hover:ds-text-typo-primary hover:ds-decoration-ui-stroke-primary ds-block\"><span>Ruturaj Gaikwad&nbsp;</span></span></a></td><td class=\"ds-min-w-max !ds-pl-[100px]\"><span class=\"ds-flex ds-cursor-pointer ds-items-center\"><i class=\"icon-keyboard_arrow_down-outlined ds-text-icon-primary ds-inline-flex ds-items-center\" style=\"font-size: 16px;\"></i><span>c Miller b Sharma</span></span></td><td class=\"ds-w-0 ds-whitespace-nowrap ds-min-w-max ds-text-right\"><strong>60</strong></td><td class=\"ds-w-0 ds-whitespace-nowrap ds-min-w-max ds-text-right\">44</td><td class=\"ds-w-0 ds-whitespace-nowrap ds-min-w-max ds-text-right\">48</td><td class=\"ds-w-0 ds-whitespace-nowrap ds-min-w-max ds-text-right\">7</td><td class=\"ds-w-0 ds-whitespace-nowrap ds-min-w-max ds-text-right\">1</td><td class=\"ds-w-0 ds-whitespace-nowrap ds-min-w-max ds-text-right\">136.36</td></tr><tr class=\"ds-hidden\"><td class=\"\" colspan=\"9\"></td></tr><tr class=\"\"><td class=\"ds-w-0 ds-whitespace-nowrap ds-min-w-max ds-flex ds-items-center\"><a href=\"/cricketers/devon-conway-379140\" title=\"Devon Conway\" class=\"ds-inline-flex ds-items-start ds-leading-none\"><span class=\"ds-text-tight-s ds-font-medium ds-text-typo ds-underline ds-decoration-ui-stroke hover:ds-text-typo-primary hover:ds-decoration-ui-stroke-primary ds-block\"><span>Devon Conway&nbsp;</span></span></a></td><td class=\"ds-min-w-max !ds-pl-[100px]\"><span class=\"ds-flex ds-cursor-pointer ds-items-center\"><i class=\"icon-keyboard_arrow_down-outlined ds-text-icon-primary ds-inline-flex ds-items-center\" style=\"font-size: 16px;\"></i><span>c Rashid Khan b Mohammed Shami</span></span></td><td class=\"ds-w-0 ds-whitespace-nowrap ds-min-w-max ds-text-right\"><strong>40</strong></td><td class=\"ds-w-0 ds-whitespace-nowrap ds-min-w-max ds-text-right\">34</td><td class=\"ds-w-0 ds-whitespace-nowrap ds-min-w-max ds-text-right\">74</td><td class=\"ds-w-0 ds-whitespace-nowrap ds-min-w-max ds-text-right\">4</td><td class=\"ds-w-0 ds-whitespace-nowrap ds-min-w-max ds-text-right\">0</td><td class=\"ds-w-0 ds-whitespace-nowrap ds-min-w-max ds-text-right\">117.64</td></tr><tr class=\"ds-hidden\"><td class=\"\" colspan=\"9\"></td></tr><tr class=\"\"><td class=\"ds-w-0 ds-whitespace-nowrap ds-min-w-max ds-flex ds-items-center\"><a href=\"/cricketers/shivam-dube-714451\" title=\"Shivam Dube\" class=\"ds-inline-flex ds-items-start ds-leading-none\"><span class=\"ds-text-tight-s ds-font-medium ds-text-typo ds-underline ds-decoration-ui-stroke hover:ds-text-typo-primary hover:ds-decoration-ui-stroke-primary ds-block\"><span>Shivam Dube&nbsp;</span></span></a><div class=\"ds-popper-wrapper\"><i class=\"icon-arrow_forward-filled ds-text-icon ds-text-icon-error ds-ml-0.5 ds-cursor-pointer\" aria-expanded=\"false\" style=\"font-size: 16px;\"></i></div></td><td class=\"ds-min-w-max !ds-pl-[100px]\"><span class=\"ds-flex ds-cursor-pointer ds-items-center\"><i class=\"icon-keyboard_arrow_down-outlined ds-text-icon-primary ds-inline-flex ds-items-center\" style=\"font-size: 16px;\"></i><span> b Noor Ahmad</span></span></td><td class=\"ds-w-0 ds-whitespace-nowrap ds-min-w-max ds-text-right\"><strong>1</strong></td><td class=\"ds-w-0 ds-whitespace-nowrap ds-min-w-max ds-text-right\">3</td><td class=\"ds-w-0 ds-whitespace-nowrap ds-min-w-max ds-text-right\">4</td><td class=\"ds-w-0 ds-whitespace-nowrap ds-min-w-max ds-text-right\">0</td><td class=\"ds-w-0 ds-whitespace-nowrap ds-min-w-max ds-text-right\">0</td><td class=\"ds-w-0 ds-whitespace-nowrap ds-min-w-max ds-text-right\">33.33</td></tr><tr class=\"ds-hidden\"><td class=\"\" colspan=\"9\"></td></tr><tr class=\"\"><td class=\"ds-w-0 ds-whitespace-nowrap ds-min-w-max ds-flex ds-items-center\"><a href=\"/cricketers/ajinkya-rahane-277916\" title=\"Ajinkya Rahane\" class=\"ds-inline-flex ds-items-start ds-leading-none\"><span class=\"ds-text-tight-s ds-font-medium ds-text-typo ds-underline ds-decoration-ui-stroke hover:ds-text-typo-primary hover:ds-decoration-ui-stroke-primary ds-block\"><span>Ajinkya Rahane&nbsp;</span></span></a></td><td class=\"ds-min-w-max !ds-pl-[100px]\"><span class=\"ds-flex ds-cursor-pointer ds-items-center\"><i class=\"icon-keyboard_arrow_down-outlined ds-text-icon-primary ds-inline-flex ds-items-center\" style=\"font-size: 16px;\"></i><span>c Shubman Gill b Nalkande</span></span></td><td class=\"ds-w-0 ds-whitespace-nowrap ds-min-w-max ds-text-right\"><strong>17</strong></td><td class=\"ds-w-0 ds-whitespace-nowrap ds-min-w-max ds-text-right\">10</td><td class=\"ds-w-0 ds-whitespace-nowrap ds-min-w-max ds-text-right\">15</td><td class=\"ds-w-0 ds-whitespace-nowrap ds-min-w-max ds-text-right\">0</td><td class=\"ds-w-0 ds-whitespace-nowrap ds-min-w-max ds-text-right\">1</td><td class=\"ds-w-0 ds-whitespace-nowrap ds-min-w-max ds-text-right\">170.00</td></tr><tr class=\"ds-hidden\"><td class=\"\" colspan=\"9\"></td></tr><tr class=\"\"><td class=\"ds-w-0 ds-whitespace-nowrap ds-min-w-max ds-flex ds-items-center\"><a href=\"/cricketers/ambati-rayudu-33141\" title=\"Ambati Rayudu\" class=\"ds-inline-flex ds-items-start ds-leading-none\"><span class=\"ds-text-tight-s ds-font-medium ds-text-typo ds-underline ds-decoration-ui-stroke hover:ds-text-typo-primary hover:ds-decoration-ui-stroke-primary ds-block\"><span>Ambati Rayudu&nbsp;</span></span></a></td><td class=\"ds-min-w-max !ds-pl-[100px]\"><span class=\"ds-flex ds-cursor-pointer ds-items-center\"><i class=\"icon-keyboard_arrow_down-outlined ds-text-icon-primary ds-inline-flex ds-items-center\" style=\"font-size: 16px;\"></i><span>c Shanaka b Rashid Khan</span></span></td><td class=\"ds-w-0 ds-whitespace-nowrap ds-min-w-max ds-text-right\"><strong>17</strong></td><td class=\"ds-w-0 ds-whitespace-nowrap ds-min-w-max ds-text-right\">9</td><td class=\"ds-w-0 ds-whitespace-nowrap ds-min-w-max ds-text-right\">15</td><td class=\"ds-w-0 ds-whitespace-nowrap ds-min-w-max ds-text-right\">1</td><td class=\"ds-w-0 ds-whitespace-nowrap ds-min-w-max ds-text-right\">1</td><td class=\"ds-w-0 ds-whitespace-nowrap ds-min-w-max ds-text-right\">188.88</td></tr><tr class=\"ds-hidden\"><td class=\"\" colspan=\"9\"></td></tr><tr class=\"\"><td class=\"ds-w-0 ds-whitespace-nowrap ds-min-w-max ds-flex ds-items-center\"><a href=\"/cricketers/ravindra-jadeja-234675\" title=\"Ravindra Jadeja\" class=\"ds-inline-flex ds-items-start ds-leading-none\"><span class=\"ds-text-tight-s ds-font-medium ds-text-typo ds-underline ds-decoration-ui-stroke hover:ds-text-typo-primary hover:ds-decoration-ui-stroke-primary ds-block\"><span>Ravindra Jadeja&nbsp;</span></span></a></td><td class=\"ds-min-w-max !ds-pl-[100px]\"><span class=\"ds-flex ds-cursor-pointer ds-items-center\"><i class=\"icon-keyboard_arrow_down-outlined ds-text-icon-primary ds-inline-flex ds-items-center\" style=\"font-size: 16px;\"></i><span> b Mohammed Shami</span></span></td><td class=\"ds-w-0 ds-whitespace-nowrap ds-min-w-max ds-text-right\"><strong>22</strong></td><td class=\"ds-w-0 ds-whitespace-nowrap ds-min-w-max ds-text-right\">16</td><td class=\"ds-w-0 ds-whitespace-nowrap ds-min-w-max ds-text-right\">25</td><td class=\"ds-w-0 ds-whitespace-nowrap ds-min-w-max ds-text-right\">2</td><td class=\"ds-w-0 ds-whitespace-nowrap ds-min-w-max ds-text-right\">0</td><td class=\"ds-w-0 ds-whitespace-nowrap ds-min-w-max ds-text-right\">137.50</td></tr><tr class=\"ds-hidden\"><td class=\"\" colspan=\"9\"></td></tr><tr class=\"\"><td class=\"ds-w-0 ds-whitespace-nowrap ds-min-w-max ds-flex ds-items-center\"><a href=\"/cricketers/ms-dhoni-28081\" title=\"MS Dhoni\" class=\"ds-inline-flex ds-items-start ds-leading-none\"><span class=\"ds-text-tight-s ds-font-medium ds-text-typo ds-underline ds-decoration-ui-stroke hover:ds-text-typo-primary hover:ds-decoration-ui-stroke-primary ds-block\"><span>MS Dhoni&nbsp;<span>(c)†</span></span></span></a></td><td class=\"ds-min-w-max !ds-pl-[100px]\"><span class=\"ds-flex ds-cursor-pointer ds-items-center\"><i class=\"icon-keyboard_arrow_down-outlined ds-text-icon-primary ds-inline-flex ds-items-center\" style=\"font-size: 16px;\"></i><span>c Pandya b Sharma</span></span></td><td class=\"ds-w-0 ds-whitespace-nowrap ds-min-w-max ds-text-right\"><strong>1</strong></td><td class=\"ds-w-0 ds-whitespace-nowrap ds-min-w-max ds-text-right\">2</td><td class=\"ds-w-0 ds-whitespace-nowrap ds-min-w-max ds-text-right\">4</td><td class=\"ds-w-0 ds-whitespace-nowrap ds-min-w-max ds-text-right\">0</td><td class=\"ds-w-0 ds-whitespace-nowrap ds-min-w-max ds-text-right\">0</td><td class=\"ds-w-0 ds-whitespace-nowrap ds-min-w-max ds-text-right\">50.00</td></tr><tr class=\"ds-hidden\"><td class=\"\" colspan=\"9\"></td></tr><tr class=\"\"><td class=\"ds-w-0 ds-whitespace-nowrap ds-min-w-max ds-flex ds-items-center ds-border-line-primary ci-scorecard-player-notout\"><a href=\"/cricketers/moeen-ali-8917\" title=\"Moeen Ali\" class=\"ds-inline-flex ds-items-start ds-leading-none\"><span class=\"ds-text-tight-s ds-font-medium ds-text-typo ds-underline ds-decoration-ui-stroke hover:ds-text-typo-primary hover:ds-decoration-ui-stroke-primary ds-block\"><span>Moeen Ali&nbsp;</span></span></a></td><td class=\"ds-min-w-max !ds-pl-[100px]\">not out </td><td class=\"ds-w-0 ds-whitespace-nowrap ds-min-w-max ds-text-right\"><strong>9</strong></td><td class=\"ds-w-0 ds-whitespace-nowrap ds-min-w-max ds-text-right\">4</td><td class=\"ds-w-0 ds-whitespace-nowrap ds-min-w-max ds-text-right\">7</td><td class=\"ds-w-0 ds-whitespace-nowrap ds-min-w-max ds-text-right\">0</td><td class=\"ds-w-0 ds-whitespace-nowrap ds-min-w-max ds-text-right\">1</td><td class=\"ds-w-0 ds-whitespace-nowrap ds-min-w-max ds-text-right\">225.00</td></tr><tr class=\"ds-text-tight-s\"><td class=\"ds-min-w-max\" colspan=\"1\">Extras</td><td class=\"ds-min-w-max !ds-pl-[100px]\">(b 1, lb 2, nb 2)</td><td class=\"ds-min-w-max ds-text-right\" colspan=\"1\"><strong>5</strong></td><td class=\"ds-text-right\" colspan=\"7\"></td></tr><tr class=\"\"><td class=\"ds-font-bold ds-bg-fill-content-alternate ds-text-tight-m ds-min-w-max\" colspan=\"1\">TOTAL</td><td class=\"ds-font-bold ds-bg-fill-content-alternate ds-text-tight-m ds-min-w-max ds-flex ds-items-center !ds-pl-[100px]\"><span class=\"ds-font-regular ds-text-tight-s\">20 Ov</span><span class=\"ds-font-regular ds-text-tight-s\">&nbsp;(RR: 8.60)</span><i class=\"icon-blank_placeholder ds-text-icon\" style=\"font-size: 20px;\"></i></td><td class=\"ds-font-bold ds-bg-fill-content-alternate ds-text-tight-m ds-min-w-max ds-text-right\" colspan=\"1\">172/7</td><td class=\"ds-font-bold ds-bg-fill-content-alternate ds-text-tight-m ds-text-right !ds-font-regular\" colspan=\"7\"><div></div></td></tr><tr class=\"!ds-border-b-0\"><td class=\"!ds-py-2\" colspan=\"9\"><div class=\"ds-text-tight-s ds-font-regular ds-leading-4\"><strong>Did not bat: </strong><a href=\"/cricketers/deepak-chahar-447261\" class=\"ds-inline-flex ds-items-start ds-leading-none\"><span class=\"ds-text-tight-s ds-font-medium ds-text-typo ds-underline ds-decoration-ui-stroke hover:ds-text-typo-primary hover:ds-decoration-ui-stroke-primary ds-block ds-mr-1\"><span>Deepak Chahar,&nbsp;</span></span></a><a href=\"/cricketers/tushar-deshpande-822553\" class=\"ds-inline-flex ds-items-start ds-leading-none\"><span class=\"ds-text-tight-s ds-font-medium ds-text-typo ds-underline ds-decoration-ui-stroke hover:ds-text-typo-primary hover:ds-decoration-ui-stroke-primary ds-block ds-mr-1\"><span>Tushar Deshpande,&nbsp;</span></span></a><a href=\"/cricketers/maheesh-theekshana-1138316\" class=\"ds-inline-flex ds-items-start ds-leading-none\"><span class=\"ds-text-tight-s ds-font-medium ds-text-typo ds-underline ds-decoration-ui-stroke hover:ds-text-typo-primary hover:ds-decoration-ui-stroke-primary ds-block ds-mr-1\"><span>Maheesh Theekshana&nbsp;</span></span></a></div></td></tr><tr class=\"\"><td class=\"\" colspan=\"9\"><div class=\"ds-text-tight-s ds-font-regular ds-leading-4\"><strong>Fall of wickets: </strong><span>1-87 (Ruturaj Gaikwad, 10.3 ov)</span><span>, 2-90 (Shivam Dube, 11.3 ov)</span><span>, 3-121 (Ajinkya Rahane, 14.5 ov)</span><span>, 4-125 (Devon Conway, 15.1 ov)</span><span>, 5-148 (Ambati Rayudu, 17.6 ov)</span><span>, 6-155 (MS Dhoni, 18.5 ov)</span><span>, 7-172 (Ravindra Jadeja, 19.6 ov)</span>&nbsp;•&nbsp;<span class=\"ds-inline-flex ds-items-center ds-cursor-pointer ds-border-b\"><i class=\"icon-info-outlined ds-text-icon ds-mr-px\" style=\"font-size: 12px;\"></i><span class=\"ds-text-tight-xs ds-font-bold\">DRS</span></span></div></td></tr></tbody></table><table class=\"ds-w-full ds-table ds-table-md ds-table-auto \"><thead class=\"ds-bg-fill-content-alternate ds-text-left\"><tr class=\"\"><th class=\"ds-min-w-max\">BOWLING</th><th class=\"ds-w-0 ds-whitespace-nowrap ds-min-w-max ds-text-right\">O</th><th class=\"ds-w-0 ds-whitespace-nowrap ds-min-w-max ds-text-right\">M</th><th class=\"ds-w-0 ds-whitespace-nowrap ds-min-w-max ds-text-right\">R</th><th class=\"ds-w-0 ds-whitespace-nowrap ds-min-w-max ds-text-right\">W</th><th class=\"ds-w-0 ds-whitespace-nowrap ds-min-w-max ds-text-right\">ECON</th><th class=\"ds-w-0 ds-whitespace-nowrap ds-min-w-max ds-text-right\">0s</th><th class=\"ds-w-0 ds-whitespace-nowrap ds-min-w-max ds-text-right\">4s</th><th class=\"ds-w-0 ds-whitespace-nowrap ds-min-w-max ds-text-right\">6s</th><th class=\"ds-w-0 ds-whitespace-nowrap ds-min-w-max ds-text-right\">WD</th><th class=\"ds-w-0 ds-whitespace-nowrap ds-min-w-max ds-text-right\">NB</th></tr></thead><tbody class=\"\"><tr class=\"\"><td class=\"ds-flex ds-items-center\"><a href=\"/cricketers/mohammed-shami-481896\" title=\"View full profile of Mohammed Shami\" class=\"ds-inline-flex ds-items-start ds-leading-none\"><span class=\"ds-text-tight-s ds-font-medium ds-text-typo ds-underline ds-decoration-ui-stroke hover:ds-text-typo-primary hover:ds-decoration-ui-stroke-primary ds-block\">Mohammed Shami</span></a></td><td class=\"ds-w-0 ds-whitespace-nowrap ds-min-w-max ds-text-right\">4</td><td class=\"ds-w-0 ds-whitespace-nowrap ds-min-w-max ds-text-right\">0</td><td class=\"ds-w-0 ds-whitespace-nowrap ds-min-w-max ds-text-right\">28</td><td class=\"ds-w-0 ds-whitespace-nowrap ds-text-right\"><span class=\"ds-flex ds-items-center ds-cursor-pointer ds-justify-end ds-relative ds-left-[15px]\"><strong>2</strong><i class=\"icon-keyboard_arrow_down-outlined ds-text-icon-primary\" style=\"font-size: 16px;\"></i></span></td><td class=\"ds-w-0 ds-whitespace-nowrap ds-min-w-max ds-text-right\">7.00</td><td class=\"ds-w-0 ds-whitespace-nowrap ds-min-w-max ds-text-right\">10</td><td class=\"ds-w-0 ds-whitespace-nowrap ds-min-w-max ds-text-right\">2</td><td class=\"ds-w-0 ds-whitespace-nowrap ds-min-w-max ds-text-right\">1</td><td class=\"ds-w-0 ds-whitespace-nowrap ds-min-w-max ds-text-right\">0</td><td class=\"ds-w-0 ds-whitespace-nowrap ds-min-w-max ds-text-right\">1</td></tr><tr class=\"ds-hidden\"><td class=\"\" colspan=\"11\"><div class=\"ds-text-tight-s ds-font-regular\"><div class=\"ds-mb-2\"><strong>15.1 to DP Conway, </strong><span><strong>Conway's struggle ends with a catch to midwicket</strong>. Slot ball, closer to length than half-volley, but very much hittable from fourth stump. Conway tried to whip it across the line, it ballooned and parachuted into Rashid's hands.</span>. <strong>125/4</strong></div><div class=\"ds-mb-2\"><strong>19.6 to RA Jadeja, </strong><span><strong>Slower one beats the heave, stumps are rattled!</strong> It was a slot ball but the cutter snuck in. Jadeja cleared his front leg out the way and went for an almighty heave across the line. Tried to go square, missed it completely.</span>. <strong>172/7</strong></div><div class=\"ds-pt-2\"><div class=\"ds-w-[868px]\"><div class=\"ci-match-comment-image-carousel\"><div class=\"slick-slider ds-carousel slick-initialized\"><div class=\"slick-list\"><div class=\"slick-track\" style=\"opacity: 1; transform: translate3d(0px, 0px, 0px);\"><div data-index=\"0\" class=\"slick-slide slick-active slick-current\" tabindex=\"-1\" aria-hidden=\"false\" style=\"outline: none; width: 0px;\"><div><div class=\"ds-pr-2\" tabindex=\"-1\" style=\"width: 100%; display: inline-block;\"><div style=\"position: relative; padding-bottom: 56.25%; height: 0px; overflow: hidden;\"><img src=\"https://wassets.hscicdn.com/static/images/lazyimage-noaspect.svg\" alt=\"Mohammed Shami ended Devon Conway's struggle on 40\" class=\"ds-rounded-xl ds-cursor-pointer\" style=\"position: absolute; top: 0px; left: 0px; width: 100%; height: 100%;\"></div></div></div></div></div></div></div></div><div class=\"ds-pt-1 ds-flex\"><a href=\"/series/indian-premier-league-2023-1345038/chennai-super-kings-vs-gujarat-titans-qualifier-1-1370350/match-photo\" class=\"ds-inline-flex ds-items-start ds-leading-none\"><span class=\"ds-text-compact-xs ds-text-typo ds-underline ds-decoration-ui-stroke hover:ds-text-typo-primary hover:ds-decoration-ui-stroke-primary ds-block\">See all photos</span></a></div></div></div></div></td></tr><tr class=\"\"><td class=\"ds-flex ds-items-center\"><a href=\"/cricketers/darshan-nalkande-1111917\" title=\"View full profile of Darshan Nalkande\" class=\"ds-inline-flex ds-items-start ds-leading-none\"><span class=\"ds-text-tight-s ds-font-medium ds-text-typo ds-underline ds-decoration-ui-stroke hover:ds-text-typo-primary hover:ds-decoration-ui-stroke-primary ds-block\">Darshan Nalkande</span></a></td><td class=\"ds-w-0 ds-whitespace-nowrap ds-min-w-max ds-text-right\">4</td><td class=\"ds-w-0 ds-whitespace-nowrap ds-min-w-max ds-text-right\">0</td><td class=\"ds-w-0 ds-whitespace-nowrap ds-min-w-max ds-text-right\">44</td><td class=\"ds-w-0 ds-whitespace-nowrap ds-text-right\"><span class=\"ds-flex ds-items-center ds-cursor-pointer ds-justify-end ds-relative ds-left-[15px]\"><strong>1</strong><i class=\"icon-keyboard_arrow_down-outlined ds-text-icon-primary\" style=\"font-size: 16px;\"></i></span></td><td class=\"ds-w-0 ds-whitespace-nowrap ds-min-w-max ds-text-right\">11.00</td><td class=\"ds-w-0 ds-whitespace-nowrap ds-min-w-max ds-text-right\">9</td><td class=\"ds-w-0 ds-whitespace-nowrap ds-min-w-max ds-text-right\">4</td><td class=\"ds-w-0 ds-whitespace-nowrap ds-min-w-max ds-text-right\">2</td><td class=\"ds-w-0 ds-whitespace-nowrap ds-min-w-max ds-text-right\">0</td><td class=\"ds-w-0 ds-whitespace-nowrap ds-min-w-max ds-text-right\">1</td></tr><tr class=\"ds-hidden\"><td class=\"\" colspan=\"11\"><div class=\"ds-text-tight-s ds-font-regular\"><div class=\"ds-mb-2\"><strong>14.5 to AM Rahane, </strong><span>Another soft dismissal off Nalkande's bowling, no no-ball this time. No celebrations from the bowler this time. It was a length outside off that Rahane tried to steer off the back foot with an open-faced bat. Ended up spooning it to backward point</span>. <strong>121/3</strong></div><div class=\"ds-pt-2\"><div class=\"ds-w-[868px]\"><div class=\"ci-match-comment-image-carousel\"><div class=\"slick-slider ds-carousel slick-initialized\"><div class=\"slick-list\"><div class=\"slick-track\" style=\"opacity: 1; transform: translate3d(0px, 0px, 0px);\"><div data-index=\"0\" class=\"slick-slide slick-active slick-current\" tabindex=\"-1\" aria-hidden=\"false\" style=\"outline: none; width: 0px;\"><div><div class=\"ds-pr-2\" tabindex=\"-1\" style=\"width: 100%; display: inline-block;\"><div style=\"position: relative; padding-bottom: 56.25%; height: 0px; overflow: hidden;\"><img src=\"https://wassets.hscicdn.com/static/images/lazyimage-noaspect.svg\" alt=\"Darshan Nalkande dismissed Ruturaj Gaikwad off a no-ball delivery\" class=\"ds-rounded-xl ds-cursor-pointer\" style=\"position: absolute; top: 0px; left: 0px; width: 100%; height: 100%;\"></div></div></div></div><div data-index=\"1\" class=\"slick-slide slick-active\" tabindex=\"-1\" aria-hidden=\"false\" style=\"outline: none; width: 0px;\"><div><div class=\"ds-pr-2\" tabindex=\"-1\" style=\"width: 100%; display: inline-block;\"><div style=\"position: relative; padding-bottom: 56.25%; height: 0px; overflow: hidden;\"><img src=\"https://wassets.hscicdn.com/static/images/lazyimage-noaspect.svg\" alt=\"Ruturaj Gaikwad hits a six off a free hit\" class=\"ds-rounded-xl ds-cursor-pointer\" style=\"position: absolute; top: 0px; left: 0px; width: 100%; height: 100%;\"></div></div></div></div></div></div></div></div><div class=\"ds-pt-1 ds-flex\"><a href=\"/series/indian-premier-league-2023-1345038/chennai-super-kings-vs-gujarat-titans-qualifier-1-1370350/match-photo\" class=\"ds-inline-flex ds-items-start ds-leading-none\"><span class=\"ds-text-compact-xs ds-text-typo ds-underline ds-decoration-ui-stroke hover:ds-text-typo-primary hover:ds-decoration-ui-stroke-primary ds-block\">See all photos</span></a></div></div></div></div></td></tr><tr class=\"\"><td class=\"ds-flex ds-items-center\"><a href=\"/cricketers/rashid-khan-793463\" title=\"View full profile of Rashid Khan\" class=\"ds-inline-flex ds-items-start ds-leading-none\"><span class=\"ds-text-tight-s ds-font-medium ds-text-typo ds-underline ds-decoration-ui-stroke hover:ds-text-typo-primary hover:ds-decoration-ui-stroke-primary ds-block\">Rashid Khan</span></a></td><td class=\"ds-w-0 ds-whitespace-nowrap ds-min-w-max ds-text-right\">4</td><td class=\"ds-w-0 ds-whitespace-nowrap ds-min-w-max ds-text-right\">0</td><td class=\"ds-w-0 ds-whitespace-nowrap ds-min-w-max ds-text-right\">37</td><td class=\"ds-w-0 ds-whitespace-nowrap ds-text-right\"><span class=\"ds-flex ds-items-center ds-cursor-pointer ds-justify-end ds-relative ds-left-[15px]\"><strong>1</strong><i class=\"icon-keyboard_arrow_down-outlined ds-text-icon-primary\" style=\"font-size: 16px;\"></i></span></td><td class=\"ds-w-0 ds-whitespace-nowrap ds-min-w-max ds-text-right\">9.25</td><td class=\"ds-w-0 ds-whitespace-nowrap ds-min-w-max ds-text-right\">5</td><td class=\"ds-w-0 ds-whitespace-nowrap ds-min-w-max ds-text-right\">2</td><td class=\"ds-w-0 ds-whitespace-nowrap ds-min-w-max ds-text-right\">1</td><td class=\"ds-w-0 ds-whitespace-nowrap ds-min-w-max ds-text-right\">0</td><td class=\"ds-w-0 ds-whitespace-nowrap ds-min-w-max ds-text-right\">0</td></tr><tr class=\"ds-hidden\"><td class=\"\" colspan=\"11\"><div class=\"ds-text-tight-s ds-font-regular\"><div class=\"ds-mb-2\"><strong>17.6 to AT Rayudu, </strong><span>Mistimes the slog sweep, the full ball goes off the top edge. Shanaka runs in from the deep to take the catch. Googly there from Rashid</span>. <strong>148/5</strong></div><div class=\"ds-pt-2\"><div class=\"ds-w-[868px]\"><div class=\"ci-match-comment-image-carousel\"><div class=\"slick-slider ds-carousel slick-initialized\"><div class=\"slick-list\"><div class=\"slick-track\" style=\"opacity: 1; transform: translate3d(0px, 0px, 0px);\"><div data-index=\"0\" class=\"slick-slide slick-active slick-current\" tabindex=\"-1\" aria-hidden=\"false\" style=\"outline: none; width: 0px;\"><div><div class=\"ds-pr-2\" tabindex=\"-1\" style=\"width: 100%; display: inline-block;\"><div style=\"position: relative; padding-bottom: 56.25%; height: 0px; overflow: hidden;\"><img src=\"https://wassets.hscicdn.com/static/images/lazyimage-noaspect.svg\" alt=\"Rashid Khan and Ravindra Jadeja very nearly collide\" class=\"ds-rounded-xl ds-cursor-pointer\" style=\"position: absolute; top: 0px; left: 0px; width: 100%; height: 100%;\"></div></div></div></div></div></div></div></div><div class=\"ds-pt-1 ds-flex\"><a href=\"/series/indian-premier-league-2023-1345038/chennai-super-kings-vs-gujarat-titans-qualifier-1-1370350/match-photo\" class=\"ds-inline-flex ds-items-start ds-leading-none\"><span class=\"ds-text-compact-xs ds-text-typo ds-underline ds-decoration-ui-stroke hover:ds-text-typo-primary hover:ds-decoration-ui-stroke-primary ds-block\">See all photos</span></a></div></div></div></div></td></tr><tr class=\"\"><td class=\"ds-flex ds-items-center\"><a href=\"/cricketers/noor-ahmad-1182529\" title=\"View full profile of Noor Ahmad\" class=\"ds-inline-flex ds-items-start ds-leading-none\"><span class=\"ds-text-tight-s ds-font-medium ds-text-typo ds-underline ds-decoration-ui-stroke hover:ds-text-typo-primary hover:ds-decoration-ui-stroke-primary ds-block\">Noor Ahmad</span></a></td><td class=\"ds-w-0 ds-whitespace-nowrap ds-min-w-max ds-text-right\">4</td><td class=\"ds-w-0 ds-whitespace-nowrap ds-min-w-max ds-text-right\">0</td><td class=\"ds-w-0 ds-whitespace-nowrap ds-min-w-max ds-text-right\">29</td><td class=\"ds-w-0 ds-whitespace-nowrap ds-text-right\"><span class=\"ds-flex ds-items-center ds-cursor-pointer ds-justify-end ds-relative ds-left-[15px]\"><strong>1</strong><i class=\"icon-keyboard_arrow_down-outlined ds-text-icon-primary\" style=\"font-size: 16px;\"></i></span></td><td class=\"ds-w-0 ds-whitespace-nowrap ds-min-w-max ds-text-right\">7.25</td><td class=\"ds-w-0 ds-whitespace-nowrap ds-min-w-max ds-text-right\">6</td><td class=\"ds-w-0 ds-whitespace-nowrap ds-min-w-max ds-text-right\">3</td><td class=\"ds-w-0 ds-whitespace-nowrap ds-min-w-max ds-text-right\">0</td><td class=\"ds-w-0 ds-whitespace-nowrap ds-min-w-max ds-text-right\">0</td><td class=\"ds-w-0 ds-whitespace-nowrap ds-min-w-max ds-text-right\">0</td></tr><tr class=\"ds-hidden\"><td class=\"\" colspan=\"11\"><div class=\"ds-text-tight-s ds-font-regular\"><div class=\"ds-mb-2\"><strong>11.3 to S Dube, </strong><span><strong>Dube's leg stump is knocked over!</strong> Noor sends across the goog on a fullish length, lands around off and spins in. Dube tries to launch it over wide long-on and misses it completely. Two wickets in successive overs.</span>. <strong>90/2</strong></div><div class=\"ds-pt-2\"><div class=\"ds-w-[868px]\"><div class=\"ci-match-comment-image-carousel\"><div class=\"slick-slider ds-carousel slick-initialized\"><div class=\"slick-list\"><div class=\"slick-track\" style=\"opacity: 1; transform: translate3d(0px, 0px, 0px);\"><div data-index=\"0\" class=\"slick-slide slick-active slick-current\" tabindex=\"-1\" aria-hidden=\"false\" style=\"outline: none; width: 0px;\"><div><div class=\"ds-pr-2\" tabindex=\"-1\" style=\"width: 100%; display: inline-block;\"><div style=\"position: relative; padding-bottom: 56.25%; height: 0px; overflow: hidden;\"><img src=\"https://wassets.hscicdn.com/static/images/lazyimage-noaspect.svg\" alt=\"Chalk and cheese: Ruturaj Gaikwad offered great timing but Devon Conway was sluggish\" class=\"ds-rounded-xl ds-cursor-pointer\" style=\"position: absolute; top: 0px; left: 0px; width: 100%; height: 100%;\"></div></div></div></div><div data-index=\"1\" class=\"slick-slide slick-active\" tabindex=\"-1\" aria-hidden=\"false\" style=\"outline: none; width: 0px;\"><div><div class=\"ds-pr-2\" tabindex=\"-1\" style=\"width: 100%; display: inline-block;\"><div style=\"position: relative; padding-bottom: 56.25%; height: 0px; overflow: hidden;\"><img src=\"https://wassets.hscicdn.com/static/images/lazyimage-noaspect.svg\" alt=\"Shivam Dube was bowled by a Noor Ahmad googly\" class=\"ds-rounded-xl ds-cursor-pointer\" style=\"position: absolute; top: 0px; left: 0px; width: 100%; height: 100%;\"></div></div></div></div></div></div></div></div><div class=\"ds-pt-1 ds-flex\"><a href=\"/series/indian-premier-league-2023-1345038/chennai-super-kings-vs-gujarat-titans-qualifier-1-1370350/match-photo\" class=\"ds-inline-flex ds-items-start ds-leading-none\"><span class=\"ds-text-compact-xs ds-text-typo ds-underline ds-decoration-ui-stroke hover:ds-text-typo-primary hover:ds-decoration-ui-stroke-primary ds-block\">See all photos</span></a></div></div></div></div></td></tr><tr class=\"\"><td class=\"ds-flex ds-items-center\"><a href=\"/cricketers/mohit-sharma-537119\" title=\"View full profile of Mohit Sharma\" class=\"ds-inline-flex ds-items-start ds-leading-none\"><span class=\"ds-text-tight-s ds-font-medium ds-text-typo ds-underline ds-decoration-ui-stroke hover:ds-text-typo-primary hover:ds-decoration-ui-stroke-primary ds-block\">Mohit Sharma</span></a><div class=\"ds-popper-wrapper\"><i class=\"icon-arrow_forward-filled ds-text-icon ds-text-icon-error ds-ml-0.5 ds-cursor-pointer\" aria-expanded=\"false\" style=\"font-size: 16px;\"></i></div></td><td class=\"ds-w-0 ds-whitespace-nowrap ds-min-w-max ds-text-right\">4</td><td class=\"ds-w-0 ds-whitespace-nowrap ds-min-w-max ds-text-right\">0</td><td class=\"ds-w-0 ds-whitespace-nowrap ds-min-w-max ds-text-right\">31</td><td class=\"ds-w-0 ds-whitespace-nowrap ds-text-right\"><span class=\"ds-flex ds-items-center ds-cursor-pointer ds-justify-end ds-relative ds-left-[15px]\"><strong>2</strong><i class=\"icon-keyboard_arrow_down-outlined ds-text-icon-primary\" style=\"font-size: 16px;\"></i></span></td><td class=\"ds-w-0 ds-whitespace-nowrap ds-min-w-max ds-text-right\">7.75</td><td class=\"ds-w-0 ds-whitespace-nowrap ds-min-w-max ds-text-right\">4</td><td class=\"ds-w-0 ds-whitespace-nowrap ds-min-w-max ds-text-right\">3</td><td class=\"ds-w-0 ds-whitespace-nowrap ds-min-w-max ds-text-right\">0</td><td class=\"ds-w-0 ds-whitespace-nowrap ds-min-w-max ds-text-right\">0</td><td class=\"ds-w-0 ds-whitespace-nowrap ds-min-w-max ds-text-right\">0</td></tr><tr class=\"ds-hidden\"><td class=\"\" colspan=\"11\"><div class=\"ds-text-tight-s ds-font-regular\"><div class=\"ds-mb-2\"><strong>10.3 to RD Gaikwad, </strong><span><strong>Top edge balloons, Miller settles and takes it at long-on!</strong> MIller points to the spidercam right after. Back of length around off, doesn't bounce as well. Gaikwad shaped to pull it but had to crouch and get low. Ball popped up, Miller ran in and took it in front of the breadbasket. Gaikwad ends with 60 after getting a reprieve on 2, thanks to Nalkande's no-ball</span>. <strong>87/1</strong></div><div class=\"ds-mb-2\"><strong>18.5 to MS Dhoni, </strong><span><strong>Slower one is ballooned to cover and the volume goes from 100 to 0</strong> as Hardik nonchalantly takes it around head-height and throws it towards the bowler. It was wide around a length and MS reached out and tried to slap it aerially</span>. <strong>155/6</strong></div></div></td></tr></tbody></table></div></div></div>"
   ]
  }
 ],
 "metadata": {
  "kernelspec": {
   "display_name": "Python 3 (ipykernel)",
   "language": "python",
   "name": "python3"
  },
  "language_info": {
   "codemirror_mode": {
    "name": "ipython",
    "version": 3
   },
   "file_extension": ".py",
   "mimetype": "text/x-python",
   "name": "python",
   "nbconvert_exporter": "python",
   "pygments_lexer": "ipython3",
   "version": "3.11.3"
  }
 },
 "nbformat": 4,
 "nbformat_minor": 5
}
